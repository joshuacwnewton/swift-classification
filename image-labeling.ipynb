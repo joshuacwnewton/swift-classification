{
 "cells": [
  {
   "cell_type": "markdown",
   "metadata": {},
   "source": [
    "Load list of segment image filepaths."
   ]
  },
  {
   "cell_type": "code",
   "execution_count": 25,
   "metadata": {
    "pycharm": {
     "is_executing": false
    }
   },
   "outputs": [
    {
     "name": "stdout",
     "output_type": "stream",
     "text": [
      "Segment #: 7404\n"
     ]
    }
   ],
   "source": [
    "from pathlib import Path\n",
    "from glob import glob\n",
    "import re\n",
    "\n",
    "parent_dir = Path(\"data\").resolve()\n",
    "input_dir = parent_dir / \"unlabeled-images\"\n",
    "frame_path_list = sorted(glob(str(input_dir/\"**\"/\"*.png\")))\n",
    "\n",
    "p = re.compile(r'^.*\"(.+)\"_(\\d+_\\d+_\\d+).png$')\n",
    "\n",
    "seg_tups = [(m.group(0), m.group(1), m.group(2))  for m in\n",
    "            [p.match(s) for s in frame_path_list] if m is not None]\n",
    "\n",
    "print(\"Segment #: {}\".format(len(seg_tups)))"
   ]
  },
  {
   "cell_type": "markdown",
   "metadata": {},
   "source": [
    "Label a batch of images."
   ]
  },
  {
   "cell_type": "code",
   "execution_count": 27,
   "metadata": {
    "pycharm": {
     "is_executing": false
    },
    "scrolled": true
   },
   "outputs": [
    {
     "data": {
      "application/vnd.jupyter.widget-view+json": {
       "model_id": "4cc7ada48d7f49cc80f51cd93fbeae82",
       "version_major": 2,
       "version_minor": 0
      },
      "text/plain": [
       "HTML(value='0 examples annotated, 1001 examples left')"
      ]
     },
     "metadata": {},
     "output_type": "display_data"
    },
    {
     "data": {
      "application/vnd.jupyter.widget-view+json": {
       "model_id": "fb13e52ead184d4fb669a3aab93b83a2",
       "version_major": 2,
       "version_minor": 0
      },
      "text/plain": [
       "HBox(children=(Button(description='swift', style=ButtonStyle()), Button(description='non-swift', style=ButtonS…"
      ]
     },
     "metadata": {},
     "output_type": "display_data"
    },
    {
     "data": {
      "application/vnd.jupyter.widget-view+json": {
       "model_id": "116a996ba77b4a6785f4fa616abda10a",
       "version_major": 2,
       "version_minor": 0
      },
      "text/plain": [
       "Output()"
      ]
     },
     "metadata": {},
     "output_type": "display_data"
    },
    {
     "name": "stdout",
     "output_type": "stream",
     "text": [
      "Annotation done.\n"
     ]
    }
   ],
   "source": [
    "from pigeon import annotate\n",
    "from IPython.display import display, Image\n",
    "\n",
    "# Process images in batches of n\n",
    "n = 1000\n",
    "if len(seg_tups) < n:\n",
    "    end = len(seg_tups)  \n",
    "else:\n",
    "    end = n\n",
    "start = 0  \n",
    "\n",
    "labels = ['swift', 'non-swift', \"blurry\"]\n",
    "\n",
    "annotations = annotate(\n",
    "    seg_tups[start:end],\n",
    "    options=labels,\n",
    "    display_fn=lambda seg_tup: display(Image(seg_tup[0], width=200, height=200))\n",
    "    )"
   ]
  },
  {
   "cell_type": "markdown",
   "metadata": {},
   "source": [
    "Write a batch of images."
   ]
  },
  {
   "cell_type": "code",
   "execution_count": 28,
   "metadata": {
    "pycharm": {
     "is_executing": false,
     "name": "#%%\n"
    }
   },
   "outputs": [],
   "source": [
    "output_dir = parent_dir/\"labeled-images\"\n",
    "\n",
    "for annotation in annotations:\n",
    "    # Check if class label directory exists, create if it doesn't\n",
    "    class_path = Path(output_dir/annotation[1])\n",
    "    if not class_path.exists():\n",
    "        Path.mkdir(class_path)\n",
    "        \n",
    "    # Move image to its respective class directory\n",
    "    img_path = Path(annotation[0][0]).resolve()\n",
    "    img_path.replace(class_path / img_path.name)"
   ]
  },
  {
   "cell_type": "code",
   "execution_count": null,
   "metadata": {
    "pycharm": {
     "name": "#%%\n"
    }
   },
   "outputs": [],
   "source": [
    "\n"
   ]
  }
 ],
 "metadata": {
  "kernelspec": {
   "display_name": "Python 3",
   "language": "python",
   "name": "python3"
  },
  "language_info": {
   "codemirror_mode": {
    "name": "ipython",
    "version": 3
   },
   "file_extension": ".py",
   "mimetype": "text/x-python",
   "name": "python",
   "nbconvert_exporter": "python",
   "pygments_lexer": "ipython3",
   "version": "3.7.5"
  },
  "pycharm": {
   "stem_cell": {
    "cell_type": "raw",
    "source": [],
    "metadata": {
     "collapsed": false
    }
   }
  }
 },
 "nbformat": 4,
 "nbformat_minor": 2
}