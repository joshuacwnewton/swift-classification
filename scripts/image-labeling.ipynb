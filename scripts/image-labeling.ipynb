{
 "cells": [
  {
   "cell_type": "markdown",
   "metadata": {},
   "source": [
    "# New multi-image annotation code blocks\n",
    "\n",
    "1. Initialization, label loading\n",
    "2. Image filepath loading\n",
    "3. Annotation\n",
    "4. Label exporting"
   ]
  },
  {
   "cell_type": "code",
   "execution_count": 195,
   "metadata": {},
   "outputs": [],
   "source": [
    "# Annotate images in batches of N\n",
    "n = 10\n",
    "labels = {\n",
    "    'keep':      ['no', 'yes'], \n",
    "    'swift':     ['no', '1', '2', '3+'], \n",
    "    'blurry':    ['no', 'yes'], \n",
    "    'chimney':   ['no', 'yes'], \n",
    "    'antennae':  ['no', 'yes'],  \n",
    "    'non-swift': ['no', 'crow', 'seagull', 'other'],\n",
    "}\n",
    "\n",
    "# Load existing annotations, or create empty .csv file if one does not already exist\n",
    "label_filepath = f\"{parent_dir}/labels_{'_'.join(list(labels.keys()))}.csv\"\n",
    "\n",
    "import os\n",
    "import pandas as pd\n",
    "\n",
    "if not os.path.exists(label_filepath):\n",
    "    new_dfObj = pd.DataFrame(columns=[\"filename\", \"src_vid\", \"segment_id\"] + list(labels.keys()))\n",
    "    new_dfObj.to_csv(label_filepath)\n",
    "    \n",
    "dfObj = pd.read_csv(label_filepath)"
   ]
  },
  {
   "cell_type": "code",
   "execution_count": 196,
   "metadata": {
    "pycharm": {
     "is_executing": false
    }
   },
   "outputs": [
    {
     "name": "stdout",
     "output_type": "stream",
     "text": [
      "Segments to annotate: 10735\n"
     ]
    }
   ],
   "source": [
    "# Load list of segment image filepaths\n",
    "from pathlib import Path\n",
    "from glob import glob\n",
    "import re\n",
    "from natsort import natsorted\n",
    "from operator import itemgetter\n",
    "\n",
    "parent_dir = Path(\"../data\").resolve()\n",
    "input_dir = parent_dir / \"images\"\n",
    "frame_path_list = sorted(glob(str(input_dir/\"**\"/\"*.png\"), recursive=True))\n",
    "\n",
    "p = re.compile(r'^.*\"(.+)\"_(\\d+_\\d+_\\d+).png$')\n",
    "\n",
    "seg_tups = [(m.group(0), m.group(1), m.group(2))  for m in\n",
    "            [p.match(s) for s in frame_path_list] if m is not None\n",
    "            and Path(m.group(0)).name not in dfObj[\"filename\"].values]\n",
    "seg_tups = natsorted(seg_tups, itemgetter(2))\n",
    "\n",
    "print(\"Segments to annotate: {}\".format(len(seg_tups)))"
   ]
  },
  {
   "cell_type": "code",
   "execution_count": 170,
   "metadata": {},
   "outputs": [
    {
     "data": {
      "application/vnd.jupyter.widget-view+json": {
       "model_id": "d615be0260884d1e8a60b6db7d0cae42",
       "version_major": 2,
       "version_minor": 0
      },
      "text/plain": [
       "HTML(value='0 examples annotated, 11 examples left')"
      ]
     },
     "metadata": {},
     "output_type": "display_data"
    },
    {
     "name": "stdout",
     "output_type": "stream",
     "text": [
      "keep\n"
     ]
    },
    {
     "data": {
      "application/vnd.jupyter.widget-view+json": {
       "model_id": "0f9e8b1639364d0eb9dde9805cd33cba",
       "version_major": 2,
       "version_minor": 0
      },
      "text/plain": [
       "HBox(children=(Button(description='no', style=ButtonStyle()), Button(description='yes', style=ButtonStyle())))"
      ]
     },
     "metadata": {},
     "output_type": "display_data"
    },
    {
     "name": "stdout",
     "output_type": "stream",
     "text": [
      "swift\n"
     ]
    },
    {
     "data": {
      "application/vnd.jupyter.widget-view+json": {
       "model_id": "3f2dcbe2722e4deaadaf78ab4c87ca3e",
       "version_major": 2,
       "version_minor": 0
      },
      "text/plain": [
       "HBox(children=(Button(description='no', style=ButtonStyle()), Button(description='1', style=ButtonStyle()), Bu…"
      ]
     },
     "metadata": {},
     "output_type": "display_data"
    },
    {
     "name": "stdout",
     "output_type": "stream",
     "text": [
      "blurry\n"
     ]
    },
    {
     "data": {
      "application/vnd.jupyter.widget-view+json": {
       "model_id": "fc315fd209814564aaeed47323c41130",
       "version_major": 2,
       "version_minor": 0
      },
      "text/plain": [
       "HBox(children=(Button(description='no', style=ButtonStyle()), Button(description='yes', style=ButtonStyle())))"
      ]
     },
     "metadata": {},
     "output_type": "display_data"
    },
    {
     "name": "stdout",
     "output_type": "stream",
     "text": [
      "chimney\n"
     ]
    },
    {
     "data": {
      "application/vnd.jupyter.widget-view+json": {
       "model_id": "6f638075ff5e423b9326b62856d1af87",
       "version_major": 2,
       "version_minor": 0
      },
      "text/plain": [
       "HBox(children=(Button(description='no', style=ButtonStyle()), Button(description='yes', style=ButtonStyle())))"
      ]
     },
     "metadata": {},
     "output_type": "display_data"
    },
    {
     "name": "stdout",
     "output_type": "stream",
     "text": [
      "antennae\n"
     ]
    },
    {
     "data": {
      "application/vnd.jupyter.widget-view+json": {
       "model_id": "8296d8fcbc4e460d9fb31a579a7566d6",
       "version_major": 2,
       "version_minor": 0
      },
      "text/plain": [
       "HBox(children=(Button(description='no', style=ButtonStyle()), Button(description='yes', style=ButtonStyle())))"
      ]
     },
     "metadata": {},
     "output_type": "display_data"
    },
    {
     "name": "stdout",
     "output_type": "stream",
     "text": [
      "non-swift\n"
     ]
    },
    {
     "data": {
      "application/vnd.jupyter.widget-view+json": {
       "model_id": "57ef1285b1474368a2532bebb27a3182",
       "version_major": 2,
       "version_minor": 0
      },
      "text/plain": [
       "HBox(children=(Button(description='no', style=ButtonStyle()), Button(description='crow', style=ButtonStyle()),…"
      ]
     },
     "metadata": {},
     "output_type": "display_data"
    },
    {
     "name": "stdout",
     "output_type": "stream",
     "text": [
      "\n"
     ]
    },
    {
     "data": {
      "application/vnd.jupyter.widget-view+json": {
       "model_id": "63cc6a47d31f4ad0b828ac2a51f1f5fe",
       "version_major": 2,
       "version_minor": 0
      },
      "text/plain": [
       "HBox(children=(Button(description='done', style=ButtonStyle()), Button(description='back', style=ButtonStyle()…"
      ]
     },
     "metadata": {},
     "output_type": "display_data"
    },
    {
     "data": {
      "application/vnd.jupyter.widget-view+json": {
       "model_id": "d496a2f1d1cf4d1f8e8e1ff4d8c89233",
       "version_major": 2,
       "version_minor": 0
      },
      "text/plain": [
       "Output()"
      ]
     },
     "metadata": {},
     "output_type": "display_data"
    },
    {
     "name": "stdout",
     "output_type": "stream",
     "text": [
      "Annotation done.\n"
     ]
    }
   ],
   "source": [
    "# Create annotations for set of images\n",
    "from multi_label_pigeon import multi_label_annotate\n",
    "from IPython.display import display, Image\n",
    "\n",
    "if len(seg_tups) < n:\n",
    "    end = len(seg_tups)  \n",
    "else:\n",
    "    end = n\n",
    "start = 0  \n",
    "\n",
    "annotations = multi_label_annotate(\n",
    "    seg_tups[start:end],\n",
    "    options=labels,\n",
    "    display_fn=lambda seg_tup: display(Image(seg_tup[0], width=200, height=200))\n",
    "    )"
   ]
  },
  {
   "cell_type": "code",
   "execution_count": 187,
   "metadata": {
    "pycharm": {
     "name": "#%%\n"
    },
    "scrolled": true
   },
   "outputs": [],
   "source": [
    "# Add new rows to dataframe\n",
    "new_rows = []\n",
    "for item, label_vals in annotations.items():\n",
    "    label_vals = {key: val[0] for key, val in label_vals.items() if type(val) is list}\n",
    "    row = pd.Series({\"filename\":Path(item[0]).name, \"src_vid\": item[1], \"segment_id\":item[2], **label_vals})\n",
    "    \n",
    "    if row[\"filename\"] not in dfObj[\"filename\"].values:\n",
    "        new_rows.append(row)\n",
    "dfObj = pd.concat([dfObj, pd.DataFrame(new_rows)])\n",
    "\n",
    "\n",
    "# Sort and export\n",
    "dfObj = dfObj.set_index(\"filename\")\n",
    "dfObj = dfObj.reindex(natsorted(dfObj.index))\n",
    "dfObj = dfObj.reset_index(level=\"filename\")\n",
    "dfObj.to_csv(label_filepath, index=False)"
   ]
  },
  {
   "cell_type": "markdown",
   "metadata": {},
   "source": [
    "# Older annotation code block when mutually exclusive labelling was used\n",
    "\n",
    "Kept in case it needs to be returned to"
   ]
  },
  {
   "cell_type": "code",
   "execution_count": 7,
   "metadata": {
    "pycharm": {
     "is_executing": false
    },
    "scrolled": true
   },
   "outputs": [
    {
     "data": {
      "application/vnd.jupyter.widget-view+json": {
       "model_id": "40d36512cd3a4ffbbddbc2ede60ba5c1",
       "version_major": 2,
       "version_minor": 0
      },
      "text/plain": [
       "HTML(value='0 examples annotated, 1001 examples left')"
      ]
     },
     "metadata": {},
     "output_type": "display_data"
    },
    {
     "data": {
      "application/vnd.jupyter.widget-view+json": {
       "model_id": "7086409e3e7c4490bb9864b3e9daeddb",
       "version_major": 2,
       "version_minor": 0
      },
      "text/plain": [
       "HBox(children=(Button(description='swift', style=ButtonStyle()), Button(description='non-swift', style=ButtonS…"
      ]
     },
     "metadata": {},
     "output_type": "display_data"
    },
    {
     "data": {
      "application/vnd.jupyter.widget-view+json": {
       "model_id": "2d44b97b6ddd48f283c406e15084dd4f",
       "version_major": 2,
       "version_minor": 0
      },
      "text/plain": [
       "Output()"
      ]
     },
     "metadata": {},
     "output_type": "display_data"
    }
   ],
   "source": [
    "# Annotate images in batches of N (mutually exclusive labels)\n",
    "n = 1000\n",
    "labels = ['swift', 'non-swift', \"! blurry\"]\n",
    "\n",
    "\n",
    "# Actually label the images\n",
    "from pigeon import annotate\n",
    "from IPython.display import display, Image\n",
    "\n",
    "if len(seg_tups) < n:\n",
    "    end = len(seg_tups)  \n",
    "else:\n",
    "    end = n\n",
    "start = 0  \n",
    "\n",
    "annotations = annotate(\n",
    "    seg_tups[start:end],\n",
    "    options=labels,\n",
    "    display_fn=lambda seg_tup: display(Image(seg_tup[0], width=200, height=200))\n",
    "    )"
   ]
  }
 ],
 "metadata": {
  "kernelspec": {
   "display_name": "Python 3",
   "language": "python",
   "name": "python3"
  },
  "language_info": {
   "codemirror_mode": {
    "name": "ipython",
    "version": 3
   },
   "file_extension": ".py",
   "mimetype": "text/x-python",
   "name": "python",
   "nbconvert_exporter": "python",
   "pygments_lexer": "ipython3",
   "version": "3.7.5"
  },
  "pycharm": {
   "stem_cell": {
    "cell_type": "raw",
    "metadata": {
     "collapsed": false
    },
    "source": []
   }
  }
 },
 "nbformat": 4,
 "nbformat_minor": 2
}
